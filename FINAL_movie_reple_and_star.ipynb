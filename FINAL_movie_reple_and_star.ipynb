{
 "cells": [
  {
   "cell_type": "code",
   "execution_count": null,
   "metadata": {},
   "outputs": [],
   "source": [
    "import sys\n",
    "import os\n",
    "import pandas as pd\n",
    "import numpy as np\n",
    "from bs4 import BeautifulSoup\n",
    "from selenium import webdriver\n",
    "import time\n",
    "from tqdm import tqdm_notebook\n",
    "\n",
    "ipt_tx_srch = input('1.크롤링할 영화는 무엇입니까?: ')\n",
    "\n",
    "path = \"chromedriver.exe\"\n",
    "driver = webdriver.Chrome(path)\n",
    "driver.get('http://movie.naver.com/movie/sdb/rank/rmovie.nhn')\n",
    "time.sleep(2)\n",
    "\n",
    "element = driver.find_element_by_css_selector(\".ipt_tx_srch\")\n",
    "element.send_keys(ipt_tx_srch)\n",
    "time.sleep(1)\n",
    "\n",
    "search = driver.find_element_by_css_selector(\".btn_srch\")\n",
    "search.click()\n",
    "time.sleep(1)\n",
    "\n",
    "driver.find_element_by_link_text(\"영화\").click( )\n",
    "time.sleep(1)\n",
    "\n",
    "driver.find_element_by_css_selector(\".result_thumb\").click( )\n",
    "time.sleep(1)\n",
    "\n",
    "driver.find_element_by_link_text(\"평점\").click( )"
   ]
  },
  {
   "cell_type": "code",
   "execution_count": null,
   "metadata": {},
   "outputs": [],
   "source": [
    "driver.switch_to.frame('pointAfterListIframe')"
   ]
  },
  {
   "cell_type": "code",
   "execution_count": null,
   "metadata": {},
   "outputs": [],
   "source": [
    "page=int(input(\"크롤링 할 페이지 수:\"))\n",
    "reple_list=[]\n",
    "star_list=[] \n",
    "target_info = {}\n",
    "\n",
    "for i in range(0,page):\n",
    "   \n",
    "   \n",
    "    # 해당 페이지에 해당하는 리플 경로\n",
    "    overlays = \".score_result .score_reple\"\n",
    "    reple_rate = driver.find_elements_by_css_selector(overlays)\n",
    "    reple_r=reple_rate\n",
    "\n",
    "    # 해당 페이지에 해당하는 평점 경로\n",
    "    overlays = \".score_result .star_score\"\n",
    "    star_rate = driver.find_elements_by_css_selector(overlays)\n",
    "    star_r=star_rate\n",
    "\n",
    "    # for문 으로 저장된경로로 들어가 평점 수집\n",
    "    for s in star_r:\n",
    "        star = s.text   \n",
    "        star_list.append(star)\n",
    "#     target_info['star'] = star_list\n",
    "\n",
    "    # for문 으로 저장된경로로 들어가 리플 수집\n",
    "    for r in reple_r:\n",
    "        reple = r.text   \n",
    "        reple_list.append(reple)\n",
    "#     target_info['reple'] = reple_list\n",
    "    \n",
    "    driver.find_element_by_link_text(\"다음\").click( )"
   ]
  },
  {
   "cell_type": "code",
   "execution_count": null,
   "metadata": {},
   "outputs": [],
   "source": [
    "data={'star':star_list,\n",
    "     'reple':reple_list}\n",
    "result_df = pd.DataFrame.from_dict(data, 'columns')"
   ]
  },
  {
   "cell_type": "code",
   "execution_count": null,
   "metadata": {},
   "outputs": [],
   "source": [
    "result_df"
   ]
  },
  {
   "cell_type": "code",
   "execution_count": null,
   "metadata": {},
   "outputs": [],
   "source": [
    "result_df.to_excel(\"movie_reple.xlsx\", encoding='utf-8-sig')"
   ]
  }
 ],
 "metadata": {
  "kernelspec": {
   "display_name": "Python 3",
   "language": "python",
   "name": "python3"
  },
  "language_info": {
   "codemirror_mode": {
    "name": "ipython",
    "version": 3
   },
   "file_extension": ".py",
   "mimetype": "text/x-python",
   "name": "python",
   "nbconvert_exporter": "python",
   "pygments_lexer": "ipython3",
   "version": "3.8.5"
  }
 },
 "nbformat": 4,
 "nbformat_minor": 4
}
