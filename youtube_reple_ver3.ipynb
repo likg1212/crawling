{
 "cells": [
  {
   # youtube reple crawiling
   "cell_type": "code",
   "execution_count": 53,
   "metadata": {},
   "outputs": [],
   "source": [
    "import sys\n",
    "import os\n",
    "import pandas as pd\n",
    "import numpy as np\n",
    "from bs4 import BeautifulSoup\n",
    "from selenium import webdriver\n",
    "import time\n",
    "from tqdm import tqdm_notebook"
   ]
  },
  {
   "cell_type": "code",
   "execution_count": 54,
   "metadata": {},
   "outputs": [
    {
     "name": "stdout",
     "output_type": "stream",
     "text": [
      "댓글 크롤링할 유튜브 링크:https://www.youtube.com/watch?v=tn2AgrwXpNQ&t=162s\n"
     ]
    }
   ],
   "source": [
    "youtube_reple=input('댓글 크롤링할 유튜브 링크:')\n",
    "path = \"chromedriver.exe\"\n",
    "driver = webdriver.Chrome(path)\n",
    "driver.get(youtube_reple)\n",
    "time.sleep(2)"
   ]
  },
  {
   "cell_type": "code",
   "execution_count": 55,
   "metadata": {},
   "outputs": [],
   "source": [
    "def scroll_down(driver):\n",
    "    driver.execute_script(\"window.scrollTo(0, 19431049)\")\n",
    "    time.sleep(5)"
   ]
  },
  {
   "cell_type": "code",
   "execution_count": 57,
   "metadata": {},
   "outputs": [],
   "source": [
    "overlay=\"//*[@id='content-text']\"\n",
    "address=driver.find_elements_by_xpath(overlay)"
   ]
  },
  {
   "cell_type": "code",
   "execution_count": 59,
   "metadata": {},
   "outputs": [],
   "source": [
    "reple_list=[]\n",
    "for i in range(0,100):\n",
    "    try:\n",
    "        i=0\n",
    "        while i < 3: # 이 조건이 만족되는 동안 반복 실행\n",
    "            scroll_down(driver)\n",
    "            time.sleep(3)# 스크롤 다운\n",
    "            i = i+1\n",
    "\n",
    "        for r in address:\n",
    "            reple = r.text   \n",
    "            reple_list.append(reple)\n",
    "    except:\n",
    "        driver.close()\n",
    "        time.sleep(1)\n",
    "        break"
   ]
  },
  {
   "cell_type": "code",
   "execution_count": 60,
   "metadata": {},
   "outputs": [],
   "source": [
    "data={'reple':reple_list}"
   ]
  },
  {
   "cell_type": "code",
   "execution_count": 61,
   "metadata": {},
   "outputs": [
    {
     "data": {
      "text/html": [
       "<div>\n",
       "<style scoped>\n",
       "    .dataframe tbody tr th:only-of-type {\n",
       "        vertical-align: middle;\n",
       "    }\n",
       "\n",
       "    .dataframe tbody tr th {\n",
       "        vertical-align: top;\n",
       "    }\n",
       "\n",
       "    .dataframe thead th {\n",
       "        text-align: right;\n",
       "    }\n",
       "</style>\n",
       "<table border=\"1\" class=\"dataframe\">\n",
       "  <thead>\n",
       "    <tr style=\"text-align: right;\">\n",
       "      <th></th>\n",
       "      <th>reple</th>\n",
       "    </tr>\n",
       "  </thead>\n",
       "  <tbody>\n",
       "    <tr>\n",
       "      <th>0</th>\n",
       "      <td>How to impress Marques:\\nStep 1: Make any prod...</td>\n",
       "    </tr>\n",
       "    <tr>\n",
       "      <th>1</th>\n",
       "      <td>Finally I can afford the galaxy s7 edge.</td>\n",
       "    </tr>\n",
       "    <tr>\n",
       "      <th>2</th>\n",
       "      <td>Last time I checked we were at S10, when tf di...</td>\n",
       "    </tr>\n",
       "    <tr>\n",
       "      <th>3</th>\n",
       "      <td>Forget the phone, \\nthe audio on this video is...</td>\n",
       "    </tr>\n",
       "    <tr>\n",
       "      <th>4</th>\n",
       "      <td>Samsung: *Releases a phone with a matte black ...</td>\n",
       "    </tr>\n",
       "    <tr>\n",
       "      <th>...</th>\n",
       "      <td>...</td>\n",
       "    </tr>\n",
       "    <tr>\n",
       "      <th>795</th>\n",
       "      <td>Dave Lee: The color is nothing special.\\n\\nMar...</td>\n",
       "    </tr>\n",
       "    <tr>\n",
       "      <th>796</th>\n",
       "      <td>Your knowledge in this field is stunningly imp...</td>\n",
       "    </tr>\n",
       "    <tr>\n",
       "      <th>797</th>\n",
       "      <td>Just got mine yesterday still not using it unt...</td>\n",
       "    </tr>\n",
       "    <tr>\n",
       "      <th>798</th>\n",
       "      <td>The leather case also has the carbon fiber ski...</td>\n",
       "    </tr>\n",
       "    <tr>\n",
       "      <th>799</th>\n",
       "      <td>I've been trying to find that intro music for ...</td>\n",
       "    </tr>\n",
       "  </tbody>\n",
       "</table>\n",
       "<p>800 rows × 1 columns</p>\n",
       "</div>"
      ],
      "text/plain": [
       "                                                 reple\n",
       "0    How to impress Marques:\\nStep 1: Make any prod...\n",
       "1             Finally I can afford the galaxy s7 edge.\n",
       "2    Last time I checked we were at S10, when tf di...\n",
       "3    Forget the phone, \\nthe audio on this video is...\n",
       "4    Samsung: *Releases a phone with a matte black ...\n",
       "..                                                 ...\n",
       "795  Dave Lee: The color is nothing special.\\n\\nMar...\n",
       "796  Your knowledge in this field is stunningly imp...\n",
       "797  Just got mine yesterday still not using it unt...\n",
       "798  The leather case also has the carbon fiber ski...\n",
       "799  I've been trying to find that intro music for ...\n",
       "\n",
       "[800 rows x 1 columns]"
      ]
     },
     "execution_count": 61,
     "metadata": {},
     "output_type": "execute_result"
    }
   ],
   "source": [
    "import pandas as pd\n",
    "result_df = pd.DataFrame.from_dict(data, 'columns')\n",
    "result_df"
   ]
  },
  {
   "cell_type": "code",
   "execution_count": 63,
   "metadata": {},
   "outputs": [],
   "source": [
    "result_df.to_excel(\"youtube_reple.xlsx\", encoding='utf-8-sig')"
   ]
  }
 ],
 "metadata": {
  "kernelspec": {
   "display_name": "Python 3",
   "language": "python",
   "name": "python3"
  },
  "language_info": {
   "codemirror_mode": {
    "name": "ipython",
    "version": 3
   },
   "file_extension": ".py",
   "mimetype": "text/x-python",
   "name": "python",
   "nbconvert_exporter": "python",
   "pygments_lexer": "ipython3",
   "version": "3.8.5"
  }
 },
 "nbformat": 4,
 "nbformat_minor": 4
}
