{
 "cells": [
  {
   "cell_type": "code",
   "execution_count": null,
   "metadata": {},
   "outputs": [],
   "source": [
    "import pandas as pd\n",
    "import numpy as np\n",
    "import matplotlib.pyplot as plt\n",
    "from bs4 import BeautifulSoup\n",
    "from selenium import webdriver\n",
    "import time"
   ]
  },
  {
   "cell_type": "code",
   "execution_count": null,
   "metadata": {},
   "outputs": [],
   "source": [
    "# 크롬창 띄우기\n",
    "driver = webdriver.Chrome(\"chromedriver.exe\")  # 맥 : /Users/aiden/Desktop/chromedriver\n",
    "driver.get(\"http://sillok.history.go.kr/main/main.do\")\n",
    "time.sleep(3)"
   ]
  },
  {
   "cell_type": "code",
   "execution_count": null,
   "metadata": {},
   "outputs": [],
   "source": [
    "for i in range(4):\n",
    "    king=driver.find_element_by_xpath('//*[@id=\"m_cont_list\"]/div[1]/ul[{}]'.format(str(i+1))).text.split(\"\\n\")\n",
    "    for main in range(len(king)):\n",
    "        name=king[main]\n",
    "        f = open(\"{}.txt\".format(name), 'w',encoding='UTF-8')\n",
    "        result=''\n",
    "        driver.find_element_by_link_text(king[main]).click()\n",
    "        time.sleep(0.1)\n",
    "        \n",
    "        for first_li in range(1,len(driver.find_elements_by_css_selector('.king_year2 > li div'))+1):\n",
    "#             print(len(driver.find_element_by_xpath('//*[@id=\"cont_area\"]/div/div[2]/ul[2]/li['+str(first_li)+']/ul').text.split(\"\\n\")))\n",
    "            for second_li in range(1,len(driver.find_element_by_xpath('//*[@id=\"cont_area\"]/div/div[2]/ul[2]/li['+str(first_li)+']/ul').text.split(\"\\n\"))+1):\n",
    "                driver.find_element_by_xpath('//*[@id=\"cont_area\"]/div/div[2]/ul[2]/li['+str(first_li)+']/ul/li['+str(second_li)+']').click()\n",
    "                time.sleep(0.1)\n",
    "                \n",
    "                content_len= len(driver.find_element_by_xpath('//*[@id=\"cont_area\"]/div[1]/div[3]/div/dl/dd/ul').text.split(\"\\n\"))\n",
    "                for content in range(1,content_len+1):\n",
    "                    driver.find_element_by_xpath('//*[@id=\"cont_area\"]/div[1]/div[3]/div/dl/dd/ul/li['+str(content)+']/a').click()\n",
    "                    time.sleep(0.2)\n",
    "                    save_len=len(driver.find_elements_by_css_selector(\".ins_left_in .ins_view_pd > p\"))\n",
    "                    for save_content in range(1,save_len):\n",
    "                        result+=driver.find_elements_by_css_selector(\".ins_left_in .ins_view_pd > p\")[save_content].text\n",
    "                    driver.back()\n",
    "                driver.back()\n",
    "        driver.back()\n",
    "        f.write(result)\n",
    "        f.close()"
   ]
  }
 ],
 "metadata": {
  "kernelspec": {
   "display_name": "Python 3",
   "language": "python",
   "name": "python3"
  },
  "language_info": {
   "codemirror_mode": {
    "name": "ipython",
    "version": 3
   },
   "file_extension": ".py",
   "mimetype": "text/x-python",
   "name": "python",
   "nbconvert_exporter": "python",
   "pygments_lexer": "ipython3",
   "version": "3.8.5"
  }
 },
 "nbformat": 4,
 "nbformat_minor": 4
}
