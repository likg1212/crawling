{
 "cells": [
  {
   "cell_type": "code",
   "execution_count": 91,
   "metadata": {},
   "outputs": [
    {
     "data": {
      "text/plain": [
       "{'neg': 0.109, 'neu': 0.674, 'pos': 0.217, 'compound': 0.501}"
      ]
     },
     "execution_count": 91,
     "metadata": {},
     "output_type": "execute_result"
    }
   ],
   "source": [
    "# senti_scores"
   ]
  },
  {
   "cell_type": "code",
   "execution_count": 90,
   "metadata": {},
   "outputs": [],
   "source": [
    "# senti_scores = senti_analyzer.polarity_scores(y_reple_df['reple'][15])"
   ]
  },
  {
   "cell_type": "code",
   "execution_count": 98,
   "metadata": {},
   "outputs": [],
   "source": [
    "# def review_to_words(raw_review):\n",
    "#     #1. HTML 제거\n",
    "#     review_text = BeautifulSoup(raw_review, 'html.parser').get_text()\n",
    "#     #2. 영문자가 아닌 문자는 공백으로 변환\n",
    "#     letters_only = re.sub('[^a-zA-Z]', ' ', review_text)\n",
    "#     #3. 소문자 변환 후 공백으로 토크나이징\n",
    "#     words = letters_only.lower().split()\n",
    "#     #4. 파이썬은 리스트보다 세트로 찾는게 훨씬 빠름\n",
    "#     stops = set(stopwords.words('english'))\n",
    "#     #5. Stopwords 불용어 제거\n",
    "#     meaningful_words = [w for w in words if not w in stops]\n",
    "#     #6. 어간 추출\n",
    "#     stemming_words = [stemmer.stem(w) for w in meaningful_words]\n",
    "#     #7. 공백으로 구분된 문자열로 결합하여 결과를 반환\n",
    "#     return(' '.join(stemming_words))"
   ]
  },
  {
   "cell_type": "code",
   "execution_count": 83,
   "metadata": {
    "scrolled": true
   },
   "outputs": [
    {
     "data": {
      "text/plain": [
       "'C:\\\\Users\\\\likg1\\\\Desktop\\\\ytr'"
      ]
     },
     "execution_count": 83,
     "metadata": {},
     "output_type": "execute_result"
    }
   ],
   "source": [
    "pwd"
   ]
  },
  {
   "cell_type": "code",
   "execution_count": 118,
   "metadata": {},
   "outputs": [],
   "source": [
    "import pandas as pd\n",
    "import numpy as np\n",
    "import nltk\n",
    "\n",
    "import warnings\n",
    "warnings.filterwarnings(action='ignore')\n",
    "\n",
    "from nltk.sentiment.vader import SentimentIntensityAnalyzer"
   ]
  },
  {
   "cell_type": "code",
   "execution_count": 119,
   "metadata": {},
   "outputs": [],
   "source": [
    "y_reple = pd.read_excel('./youtube_reple.xlsx')"
   ]
  },
  {
   "cell_type": "code",
   "execution_count": 120,
   "metadata": {
    "scrolled": true
   },
   "outputs": [],
   "source": [
    "y_reple_df=y_reple"
   ]
  },
  {
   "cell_type": "code",
   "execution_count": 123,
   "metadata": {},
   "outputs": [
    {
     "data": {
      "text/html": [
       "<div>\n",
       "<style scoped>\n",
       "    .dataframe tbody tr th:only-of-type {\n",
       "        vertical-align: middle;\n",
       "    }\n",
       "\n",
       "    .dataframe tbody tr th {\n",
       "        vertical-align: top;\n",
       "    }\n",
       "\n",
       "    .dataframe thead th {\n",
       "        text-align: right;\n",
       "    }\n",
       "</style>\n",
       "<table border=\"1\" class=\"dataframe\">\n",
       "  <thead>\n",
       "    <tr style=\"text-align: right;\">\n",
       "      <th></th>\n",
       "      <th>Unnamed: 0</th>\n",
       "      <th>reple</th>\n",
       "    </tr>\n",
       "  </thead>\n",
       "  <tbody>\n",
       "    <tr>\n",
       "      <th>0</th>\n",
       "      <td>0</td>\n",
       "      <td>How to impress Marques:\\nStep 1: Make any prod...</td>\n",
       "    </tr>\n",
       "    <tr>\n",
       "      <th>1</th>\n",
       "      <td>1</td>\n",
       "      <td>Finally I can afford the galaxy s7 edge.</td>\n",
       "    </tr>\n",
       "    <tr>\n",
       "      <th>2</th>\n",
       "      <td>2</td>\n",
       "      <td>Last time I checked we were at S10, when tf di...</td>\n",
       "    </tr>\n",
       "    <tr>\n",
       "      <th>3</th>\n",
       "      <td>3</td>\n",
       "      <td>Forget the phone, \\nthe audio on this video is...</td>\n",
       "    </tr>\n",
       "    <tr>\n",
       "      <th>4</th>\n",
       "      <td>4</td>\n",
       "      <td>Samsung: *Releases a phone with a matte black ...</td>\n",
       "    </tr>\n",
       "  </tbody>\n",
       "</table>\n",
       "</div>"
      ],
      "text/plain": [
       "   Unnamed: 0                                              reple\n",
       "0           0  How to impress Marques:\\nStep 1: Make any prod...\n",
       "1           1           Finally I can afford the galaxy s7 edge.\n",
       "2           2  Last time I checked we were at S10, when tf di...\n",
       "3           3  Forget the phone, \\nthe audio on this video is...\n",
       "4           4  Samsung: *Releases a phone with a matte black ..."
      ]
     },
     "execution_count": 123,
     "metadata": {},
     "output_type": "execute_result"
    }
   ],
   "source": [
    "y_reple_df.head()"
   ]
  },
  {
   "cell_type": "code",
   "execution_count": 88,
   "metadata": {},
   "outputs": [
    {
     "data": {
      "text/plain": [
       "pandas.core.series.Series"
      ]
     },
     "execution_count": 88,
     "metadata": {},
     "output_type": "execute_result"
    }
   ],
   "source": [
    "type(y_reple_df['reple'])"
   ]
  },
  {
   "cell_type": "code",
   "execution_count": 89,
   "metadata": {},
   "outputs": [],
   "source": [
    "senti_analyzer = SentimentIntensityAnalyzer()"
   ]
  },
  {
   "cell_type": "code",
   "execution_count": 124,
   "metadata": {
    "scrolled": true
   },
   "outputs": [],
   "source": [
    "score=[]\n",
    "for i in range(0,len(y_reple_df)):\n",
    "    senti_scores = senti_analyzer.polarity_scores(y_reple_df['reple'][i])\n",
    "    i=senti_scores['compound']\n",
    "    score.append(i)"
   ]
  },
  {
   "cell_type": "code",
   "execution_count": 93,
   "metadata": {},
   "outputs": [],
   "source": [
    "a=np.array(score)\n",
    "AVG=np.mean(a)"
   ]
  },
  {
   "cell_type": "code",
   "execution_count": 94,
   "metadata": {},
   "outputs": [
    {
     "data": {
      "text/plain": [
       "0.298365"
      ]
     },
     "execution_count": 94,
     "metadata": {},
     "output_type": "execute_result"
    }
   ],
   "source": [
    "AVG"
   ]
  },
  {
   "cell_type": "code",
   "execution_count": 95,
   "metadata": {},
   "outputs": [],
   "source": [
    "from PIL import Image\n",
    "import PIL.Image as pilimg\n",
    "import matplotlib.pyplot as plt\n",
    "from wordcloud import WordCloud, STOPWORDS\n",
    "%matplotlib inline"
   ]
  },
  {
   "cell_type": "code",
   "execution_count": 96,
   "metadata": {
    "scrolled": true
   },
   "outputs": [],
   "source": [
    "allt=[]\n",
    "for i in range(0,len(y_reple_df['reple'])):\n",
    "    allt.append(y_reple_df['reple'][i])"
   ]
  },
  {
   "cell_type": "code",
   "execution_count": 97,
   "metadata": {},
   "outputs": [],
   "source": [
    "alll=' '.join(allt)"
   ]
  },
  {
   "cell_type": "code",
   "execution_count": 99,
   "metadata": {},
   "outputs": [],
   "source": [
    "from multiprocessing import Pool\n",
    "import numpy as np"
   ]
  },
  {
   "cell_type": "code",
   "execution_count": 100,
   "metadata": {},
   "outputs": [],
   "source": [
    "text =alll"
   ]
  },
  {
   "cell_type": "code",
   "execution_count": 103,
   "metadata": {
    "scrolled": true
   },
   "outputs": [
    {
     "data": {
      "text/plain": [
       "array([[[255, 255, 255],\n",
       "        [255, 255, 255],\n",
       "        [255, 255, 255],\n",
       "        ...,\n",
       "        [255, 255, 255],\n",
       "        [255, 255, 255],\n",
       "        [255, 255, 255]],\n",
       "\n",
       "       [[255, 255, 255],\n",
       "        [255, 255, 255],\n",
       "        [255, 255, 255],\n",
       "        ...,\n",
       "        [255, 255, 255],\n",
       "        [255, 255, 255],\n",
       "        [255, 255, 255]],\n",
       "\n",
       "       [[255, 255, 255],\n",
       "        [255, 255, 255],\n",
       "        [255, 255, 255],\n",
       "        ...,\n",
       "        [255, 255, 255],\n",
       "        [255, 255, 255],\n",
       "        [255, 255, 255]],\n",
       "\n",
       "       ...,\n",
       "\n",
       "       [[255, 255, 255],\n",
       "        [255, 255, 255],\n",
       "        [255, 255, 255],\n",
       "        ...,\n",
       "        [255, 255, 255],\n",
       "        [255, 255, 255],\n",
       "        [255, 255, 255]],\n",
       "\n",
       "       [[255, 255, 255],\n",
       "        [255, 255, 255],\n",
       "        [255, 255, 255],\n",
       "        ...,\n",
       "        [255, 255, 255],\n",
       "        [255, 255, 255],\n",
       "        [255, 255, 255]],\n",
       "\n",
       "       [[255, 255, 255],\n",
       "        [255, 255, 255],\n",
       "        [255, 255, 255],\n",
       "        ...,\n",
       "        [255, 255, 255],\n",
       "        [255, 255, 255],\n",
       "        [255, 255, 255]]], dtype=uint8)"
      ]
     },
     "execution_count": 103,
     "metadata": {},
     "output_type": "execute_result"
    }
   ],
   "source": [
    "mask = np.array(Image.open('s21ultra.jpg'))\n",
    "mask"
   ]
  },
  {
   "cell_type": "code",
   "execution_count": 104,
   "metadata": {},
   "outputs": [
    {
     "data": {
      "text/plain": [
       "<matplotlib.image.AxesImage at 0x2283f7e6400>"
      ]
     },
     "execution_count": 104,
     "metadata": {},
     "output_type": "execute_result"
    },
    {
     "data": {
      "image/png": "[encoded data removed]",
      "text/plain": [
       "<Figure size 432x288 with 1 Axes>"
      ]
     },
     "metadata": {
      "needs_background": "light"
     },
     "output_type": "display_data"
    }
   ],
   "source": [
    "plt.imshow(mask)"
   ]
  },
  {
   "cell_type": "code",
   "execution_count": 125,
   "metadata": {},
   "outputs": [],
   "source": [
    "stopwords =['i', 'me', 'my', 'myself', 'we', 'our', 'ours', 'ourselves', 'you', \"you're\", \"you've\", \"you'll\", \"you'd\", 'your', 'yours', 'yourself', 'yourselves', 'he', 'him', 'his', 'himself', 'she', \"she's\", 'her', 'hers', 'herself', 'it', \"it's\", 'its', 'itself', 'they', 'them', 'their', 'theirs', 'themselves', 'what', 'which', 'who', 'whom', 'this', 'that', \"that'll\", 'these', 'those', 'am', 'is', 'are', 'was', 'were', 'be', 'been', 'being', 'have', 'has', 'had', 'having', 'do', 'does', 'did', 'doing', 'a', 'an', 'the', 'and', 'but', 'if', 'or', 'because', 'as', 'until', 'while', 'of', 'at', 'by', 'for', 'with', 'about', 'against', 'between', 'into', 'through', 'during', 'before', 'after', 'above', 'below', 'to', 'from', 'up', 'down', 'in', 'out', 'on', 'off', 'over', 'under', 'again', 'further', 'then', 'once', 'here', 'there', 'when', 'where', 'why', 'how', 'all', 'any', 'both', 'each', 'few', 'more', 'most', 'other', 'some', 'such', 'no', 'nor', 'not', 'only', 'own', 'same', 'so', 'than', 'too', 'very', 's', 't', 'can', 'will', 'just', 'don', \"don't\", 'should', \"should've\", 'now', 'd', 'll', 'm', 'o', 're', 've', 'y', 'ain', 'aren', \"aren't\", 'couldn', \"couldn't\", 'didn', \"didn't\", 'doesn', \"doesn't\", 'hadn', \"hadn't\", 'hasn', \"hasn't\", 'haven', \"haven't\", 'isn', \"isn't\", 'ma', 'mightn', \"mightn't\", 'mustn', \"mustn't\", 'needn', \"needn't\", 'shan', \"shan't\", 'shouldn', \"shouldn't\", 'wasn', \"wasn't\", 'weren', \"weren't\", 'won', \"won't\", 'wouldn', \"wouldn't\",\"phone\",\"get\",\"review\",\"dude\"]"
   ]
  },
  {
   "cell_type": "code",
   "execution_count": 126,
   "metadata": {
    "scrolled": true
   },
   "outputs": [
    {
     "data": {
      "text/plain": [
       "{'video': 1.0,\n",
       " 'Matte Black': 1.0,\n",
       " 'afford': 0.5,\n",
       " 'time': 0.5,\n",
       " 'checked': 0.5,\n",
       " 'S10': 0.5,\n",
       " 'tf': 0.5,\n",
       " 'way': 0.5,\n",
       " 'audio': 0.5,\n",
       " 'know': 0.5,\n",
       " 'going': 0.5,\n",
       " 'team': 0.5,\n",
       " 'engineers': 0.5,\n",
       " 'designing': 0.5,\n",
       " 'Sheila': 0.5,\n",
       " 'love': 0.5,\n",
       " 'quality': 0.5,\n",
       " 'could': 0.5,\n",
       " 'put': 0.5,\n",
       " 'picture': 0.5,\n",
       " 'day': 0.5,\n",
       " '5AM': 0.5,\n",
       " 'using': 0.5,\n",
       " 'work': 0.5,\n",
       " 'PM': 0.5,\n",
       " 'exactly': 0.5,\n",
       " 'reaction': 0.5,\n",
       " 'Nothing': 0.5,\n",
       " 'one': 0.5,\n",
       " 'snowstorm': 0.5,\n",
       " 'NYC': 0.5,\n",
       " 'negotiations': 0.5,\n",
       " 'FedEx': 0.5,\n",
       " 'lighting': 0.5,\n",
       " 'offer': 0.5,\n",
       " 'seeing': 0.5,\n",
       " 'color': 0.5,\n",
       " 'also': 0.5,\n",
       " 'knowledge': 0.5,\n",
       " 'field': 0.5,\n",
       " 'appreciate': 0.5,\n",
       " 'camera': 0.5,\n",
       " \"I've\": 0.5,\n",
       " 'trying': 0.5,\n",
       " 'find': 0.5,\n",
       " 'impress Marques': 0.5,\n",
       " 'Marques Step': 0.5,\n",
       " 'Step Make': 0.5,\n",
       " 'product Matte': 0.5,\n",
       " 'Black Finally': 0.5,\n",
       " 'galaxy s7': 0.5,\n",
       " 's7 edge': 0.5,\n",
       " 'edge Last': 0.5,\n",
       " 'Last time': 0.5,\n",
       " 'S21 Forget': 0.5,\n",
       " 'flawless Samsung': 0.5,\n",
       " 'Samsung Releases': 0.5,\n",
       " 'black finish': 0.5,\n",
       " 'finish Marques': 0.5,\n",
       " 'Marques Guys': 0.5,\n",
       " 'sound like': 0.5,\n",
       " \"like I'm\": 0.5,\n",
       " \"I'm full\": 0.5,\n",
       " 'think Samsung': 0.5,\n",
       " 'Samsung dedicated': 0.5,\n",
       " 'mind fps': 0.5,\n",
       " 'wrong frame': 0.5,\n",
       " 'frame rate': 0.5,\n",
       " 'rate Marques': 0.5,\n",
       " 'wife bought': 0.5,\n",
       " 'surprise Gift': 0.5,\n",
       " 'Gift two': 0.5,\n",
       " 'two months': 0.5,\n",
       " 'months ago': 0.5,\n",
       " 'ago Thank': 0.5,\n",
       " 'best background': 0.5,\n",
       " 'wall Watching': 0.5,\n",
       " 'new S21': 0.5,\n",
       " 'S21 Started': 0.5,\n",
       " 'day using': 0.5,\n",
       " 'gonna lie': 0.5,\n",
       " \"lie I'm\": 0.5,\n",
       " \"I'm freakin\": 0.5,\n",
       " 'freakin impressed': 0.5,\n",
       " 'impressed tap': 0.5,\n",
       " 'tap tap': 0.5,\n",
       " 'first unwrapped': 0.5,\n",
       " 'never seemed': 0.5,\n",
       " 'seemed happier': 0.5,\n",
       " 'happier reviewing': 0.5,\n",
       " 'finally say': 0.5,\n",
       " \"I'm watching\": 0.5,\n",
       " 'Galaxy S21': 0.5,\n",
       " 'S21 Ultra': 0.5,\n",
       " 'wanna know': 0.5,\n",
       " 'audio setup': 0.5,\n",
       " 'setup Dayum': 0.5,\n",
       " 'whole reason': 0.5,\n",
       " 'many features': 0.5,\n",
       " 'possible YES': 0.5,\n",
       " 'ordered mine': 0.5,\n",
       " \"I'm excited\": 0.5,\n",
       " 'Dave Lee': 0.5,\n",
       " 'nothing special': 0.5,\n",
       " 'special Marques': 0.5,\n",
       " 'amazing finish': 0.5,\n",
       " 'stunningly impressive': 0.5,\n",
       " 'videos Cheers': 0.5,\n",
       " 'got mine': 0.5,\n",
       " 'mine yesterday': 0.5,\n",
       " 'yesterday still': 0.5,\n",
       " 'screen protector': 0.5,\n",
       " 'protector come': 0.5,\n",
       " 'leather case': 0.5,\n",
       " 'case also': 0.5,\n",
       " 'carbon fiber': 0.5,\n",
       " 'fiber skin': 0.5,\n",
       " 'love mine': 0.5,\n",
       " 'intro music': 0.5,\n",
       " 'last three': 0.5,\n",
       " 'three months': 0.5}"
      ]
     },
     "execution_count": 126,
     "metadata": {},
     "output_type": "execute_result"
    }
   ],
   "source": [
    "wc = WordCloud(font_path='c:/Windows/Fonts/malgun.ttf',\n",
    "               background_color=\"white\",\n",
    "               stopwords = stopwords,\n",
    "               max_words=20000,\n",
    "               mask=mask,\n",
    "               max_font_size=100).generate(text)\n",
    "wc.words_"
   ]
  },
  {
   "cell_type": "code",
   "execution_count": 127,
   "metadata": {},
   "outputs": [
    {
     "data": {
      "text/plain": [
       "<matplotlib.image.AxesImage at 0x22842db0220>"
      ]
     },
     "execution_count": 127,
     "metadata": {},
     "output_type": "execute_result"
    },
    {
     "data": {
      "image/png": "[encoded data removed]",
      "text/plain": [
       "<Figure size 432x288 with 1 Axes>"
      ]
     },
     "metadata": {
      "needs_background": "light"
     },
     "output_type": "display_data"
    }
   ],
   "source": [
    "plt.imshow(wc)"
   ]
  },
  {
   "cell_type": "code",
   "execution_count": null,
   "metadata": {},
   "outputs": [],
   "source": []
  }
 ],
 "metadata": {
  "kernelspec": {
   "display_name": "Python 3",
   "language": "python",
   "name": "python3"
  },
  "language_info": {
   "codemirror_mode": {
    "name": "ipython",
    "version": 3
   },
   "file_extension": ".py",
   "mimetype": "text/x-python",
   "name": "python",
   "nbconvert_exporter": "python",
   "pygments_lexer": "ipython3",
   "version": "3.8.5"
  }
 },
 "nbformat": 4,
 "nbformat_minor": 4
}
